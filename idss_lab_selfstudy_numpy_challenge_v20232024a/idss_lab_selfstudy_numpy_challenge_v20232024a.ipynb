{
 "cells": [
  {
   "cell_type": "markdown",
   "metadata": {
    "deletable": false,
    "editable": false,
    "nbgrader": {
     "cell_type": "markdown",
     "checksum": "dca71c52e0b209b246bba28f079848b0",
     "grade": false,
     "grade_id": "cell-96ff555b80754366",
     "locked": true,
     "schema_version": 3,
     "solution": false
    }
   },
   "source": [
    "----\n",
    "# Introduction to Data Science and Systems 2023-2024\n",
    "\n",
    "## Challenge lab: Introduction to Jupyter, Python and Numpy [unassessed and ungraded]\n",
    "University of Glasgow\n",
    "\n",
    "v20232024a\n",
    "\n"
   ]
  },
  {
   "cell_type": "markdown",
   "metadata": {},
   "source": [
    "---"
   ]
  },
  {
   "cell_type": "markdown",
   "metadata": {
    "deletable": false,
    "editable": false,
    "nbgrader": {
     "cell_type": "markdown",
     "checksum": "5977a46bfe29a6d33c340800543f0738",
     "grade": false,
     "grade_id": "cell-01c84fe8d49767fe",
     "locked": true,
     "schema_version": 3,
     "solution": false
    }
   },
   "source": [
    "\n",
    "### Notes\n",
    "It is recommended to keep the lecture notes open while doing this lab exercise.\n",
    "\n",
    "**This exercise is assessed**. Make sure you upload your solution by the deadline. See the notes at the bottom of this notebook for submission guidance.\n",
    "\n",
    "\n",
    "### References\n",
    "If you are stuck, the following resources are very helpful:\n",
    "\n",
    "\n",
    "* [NumPy cheatsheet](https://github.com/juliangaal/python-cheat-sheet/blob/master/NumPy/NumPy.md)\n",
    "* [NumPy API reference](https://docs.scipy.org/doc/numpy-1.13.0/reference/)\n",
    "* [NumPy user guide](https://docs.scipy.org/doc/numpy-1.13.0/user/basics.html)\n",
    "\n",
    "\n",
    "* [Python for Data Science cheatsheet](https://s3.amazonaws.com/assets.datacamp.com/blog_assets/PythonForDataScience.pdf)\n",
    "* [Another NumPy Cheatsheet](https://s3.amazonaws.com/assets.datacamp.com/blog_assets/Numpy_Python_Cheat_Sheet.pdf)\n"
   ]
  },
  {
   "cell_type": "markdown",
   "metadata": {
    "deletable": false,
    "editable": false,
    "nbgrader": {
     "cell_type": "markdown",
     "checksum": "67b56f67f1e6f0122d5038d388b85c87",
     "grade": false,
     "grade_id": "cell-8ede47f17b8fd075",
     "locked": true,
     "schema_version": 3,
     "solution": false
    }
   },
   "source": [
    "## Purpose of this lab\n",
    "This lab should help you:\n",
    "* understand floating point representations\n",
    "* understand how roundoff errors occur and how you can control them\n",
    "* work with higher rank tensors, selecting the attributes you want to work with\n",
    "* understand how to do simple operations in a vectorised manner\n",
    "\n",
    "Note: this lab requires solving puzzles which require that you understand the course material. Very little code is required to get the correct solutions.\n"
   ]
  },
  {
   "cell_type": "markdown",
   "metadata": {},
   "source": [
    "## Before you start..."
   ]
  },
  {
   "cell_type": "code",
   "execution_count": null,
   "metadata": {
    "ExecuteTime": {
     "end_time": "2020-09-28T13:04:21.942803Z",
     "start_time": "2020-09-28T13:04:21.939973Z"
    }
   },
   "outputs": [],
   "source": [
    "## custom utils\n",
    "## uncomment and run the line below if you get an error about jhwutils\n",
    "## then RESTART THE KERNEL (Kernel/Restart)\n",
    "\n",
    "#!pip --no-cache install --user -U https://github.com/johnhw/jhwutils/zipball/master   \n",
    "\n",
    "# comment it again before submitting!"
   ]
  },
  {
   "cell_type": "markdown",
   "metadata": {},
   "source": [
    "Import some basic things"
   ]
  },
  {
   "cell_type": "code",
   "execution_count": null,
   "metadata": {
    "ExecuteTime": {
     "end_time": "2020-09-28T13:04:21.961347Z",
     "start_time": "2020-09-28T13:04:21.943780Z"
    },
    "deletable": false,
    "editable": false,
    "nbgrader": {
     "cell_type": "code",
     "checksum": "e7104aa3f11f458e2c923ebc78097e32",
     "grade": false,
     "grade_id": "cell-7d8b7c3700ac1bc7",
     "locked": true,
     "schema_version": 3,
     "solution": false
    }
   },
   "outputs": [],
   "source": [
    "# Standard imports\n",
    "# Make sure you run this cell!\n",
    "# NumPy\n",
    "import numpy as np  \n",
    "np.set_printoptions(suppress=True)\n",
    "\n",
    "# Set up Matplotlib\n",
    "import matplotlib as mpl   \n",
    "import matplotlib.pyplot as plt\n",
    "%matplotlib inline\n",
    "plt.rc('figure', figsize=(8.0, 4.0), dpi=140)\n",
    "\n",
    "from jhwutils.checkarr import array_hash, check_hash\n",
    "from jhwutils.float_inspector import print_float_html\n",
    "import jhwutils.image_audio as ia\n",
    "import jhwutils.tick as tick\n",
    "\n",
    "import lzma, base64\n",
    "exec(lzma.decompress(base64.b64decode(b'/Td6WFoAAATm1rRGAgAhARYAAAB0L+Wj4AHWARFdAAUaCmNWCuiTCXe8bHWT/WeqghymfBRQKyklXJ3lgDWHk34myezvldkgSu3Adiur0vA+OkDfUwiMWzEclOxunCssCtgpVM94TwtylLQC9aX0APwnuNk2VBPkVpf3otXT04I1pElMWNdSgqgJ9/PqMJhdhfDr3Wrs/a/pRN/AOd+rZawioudIbGRTYZgWPHcqPLImmS2EO0Hbkc7kRAS3Nr9JkELrRMkejvVMnGgu+b1m4uXv6trDURkPrMO7HCVcO5FcMx1FURc+hNcKRmmBp1mCuW4iop6qRAMNnAur/spBmfuw+lbJkxOoIXMwrRuEXa6bnJz53WQnloXvzbWW5hqEtbPpSHPLPccxaiU5yPAKYAAAAADqkqJjsFbfFwABrQLXAwAA9LrSpbHEZ/sCAAAAAARZWg==')))\n",
    "\n",
    "print(\"Everything imported OK\")"
   ]
  },
  {
   "cell_type": "markdown",
   "metadata": {},
   "source": [
    "## Precision\n",
    "Want to change precsion of number printing in NumPy?\n",
    "\n",
    "* `np.set_printoptions(precision=30)` will show the numbers in full\n",
    "* `np.set_printoptions(precision=3)` will show three decimal places, etc.\n"
   ]
  },
  {
   "cell_type": "markdown",
   "metadata": {
    "deletable": false,
    "editable": false,
    "nbgrader": {
     "cell_type": "markdown",
     "checksum": "ca8ab91e44dc877b21a57abbbadab1cc",
     "grade": false,
     "grade_id": "cell-cd90398823b51d3c",
     "locked": true,
     "schema_version": 3,
     "solution": false
    }
   },
   "source": [
    "# 1. Financial misconduct"
   ]
  },
  {
   "cell_type": "markdown",
   "metadata": {
    "deletable": false,
    "editable": false,
    "nbgrader": {
     "cell_type": "markdown",
     "checksum": "1670f2db84e716450a3cac94445db3b9",
     "grade": false,
     "grade_id": "cell-cd1b63eb91f1612d",
     "locked": true,
     "schema_version": 3,
     "solution": false
    }
   },
   "source": [
    "You have been asked to verify the computation of some financial predictive models. These models produces a sequence of updates to the value of a product. The product updates are mainly of two types:\n",
    "* **large deposits**, representing inflows of new cash, often up into the billions of pounds\n",
    "* **small returns** from high-frequency trading activity\n",
    "\n",
    "The simulator produces **two** model outputs from two distinct models `a` and `b` at each time step, which provide very similar estimates of the value of these updates.\n",
    "\n",
    "You are asked to write code that will produce:\n",
    "\n",
    "* an estimate of the total value of a product over some series\n",
    "* the total difference between two different product models, both of which are very similar.\n",
    "\n",
    "You are given the existing code below, which is supposed to compute and return:\n",
    "\n",
    "* the sum of the `a` updates (i.e. total value of `a`)\n",
    "* the accumulated difference between the `a` and `b` products.\n",
    "\n",
    "However, the result is very inaccurate when tested. Modify this code to be more accurate. Do NOT use NumPy, or *any* other external module to improve your calculation. Use floating point, regardless of the fact that floating point is not appropriate for financial data.\n",
    "\n",
    "The errors should be less than 0.5 for the `a` sum and less than 1e-10 for the difference in predictions."
   ]
  },
  {
   "cell_type": "code",
   "execution_count": null,
   "metadata": {
    "ExecuteTime": {
     "end_time": "2020-09-28T13:04:21.976963Z",
     "start_time": "2020-09-28T13:04:21.962323Z"
    },
    "deletable": false,
    "editable": false,
    "nbgrader": {
     "cell_type": "code",
     "checksum": "ff5608433d2c972fba67f97a4d5b83d3",
     "grade": false,
     "grade_id": "cell-50aa86e1b77a72bd",
     "locked": true,
     "schema_version": 3,
     "solution": false
    }
   },
   "outputs": [],
   "source": [
    "class Simulator: # we use a class just to hold variables between calls\n",
    "    def __init__(self):\n",
    "        # initialise accumulators\n",
    "        self.a_sum = 0\n",
    "        self.b_sum = 0\n",
    "        \n",
    "    def update(self, a, b):\n",
    "        # increment\n",
    "        self.a_sum += a\n",
    "        self.b_sum += b\n",
    "        \n",
    "    def results(self):\n",
    "        # return a  pair of results\n",
    "        # (you do not need to change this)\n",
    "        return self.a_sum, self.a_sum - self.b_sum\n",
    "        "
   ]
  },
  {
   "cell_type": "code",
   "execution_count": null,
   "metadata": {
    "ExecuteTime": {
     "end_time": "2020-09-28T13:04:22.996849Z",
     "start_time": "2020-09-28T13:04:21.978916Z"
    },
    "deletable": false,
    "editable": false,
    "nbgrader": {
     "cell_type": "code",
     "checksum": "58c881d1e653f83c5e84e2c129cd7456",
     "grade": false,
     "grade_id": "cell-35c606e253a47cef",
     "locked": true,
     "schema_version": 3,
     "solution": false
    }
   },
   "outputs": [],
   "source": [
    "a_error, d_error = simulate(Simulator())\n",
    "# bad result!\n",
    "print(f\"Error in a_sum is {a_error} and {d_error} in d_sum\")"
   ]
  },
  {
   "cell_type": "markdown",
   "metadata": {
    "deletable": false,
    "editable": false,
    "nbgrader": {
     "cell_type": "markdown",
     "checksum": "0721eda0ab3ed291583c41716e7ba37a",
     "grade": false,
     "grade_id": "cell-0f6db2fc517f160b",
     "locked": true,
     "schema_version": 3,
     "solution": false
    }
   },
   "source": [
    "Copy and paste the `Simulator` into the cell below and modify it:"
   ]
  },
  {
   "cell_type": "code",
   "execution_count": null,
   "metadata": {
    "ExecuteTime": {
     "end_time": "2020-09-28T13:47:24.140666Z",
     "start_time": "2020-09-28T13:47:24.135786Z"
    },
    "deletable": false,
    "nbgrader": {
     "cell_type": "code",
     "checksum": "9c88de639bb042b14783119458ce1a70",
     "grade": false,
     "grade_id": "cell-25d29ac908333f15",
     "locked": false,
     "schema_version": 3,
     "solution": true
    }
   },
   "outputs": [],
   "source": [
    "# YOUR CODE HERE\n",
    "raise NotImplementedError()"
   ]
  },
  {
   "cell_type": "code",
   "execution_count": null,
   "metadata": {
    "ExecuteTime": {
     "end_time": "2020-09-28T13:47:25.417069Z",
     "start_time": "2020-09-28T13:47:24.330147Z"
    },
    "deletable": false,
    "editable": false,
    "nbgrader": {
     "cell_type": "code",
     "checksum": "f1e98bef3ef86adad3e5868986316e6e",
     "grade": false,
     "grade_id": "cell-3cb0d8f80031eb15",
     "locked": true,
     "schema_version": 3,
     "solution": false
    }
   },
   "outputs": [],
   "source": [
    "    \n",
    "a_error, d_error = simulate(Simulator())\n",
    "print(f\"Error in a_sum is {a_error} and {d_error} in d_sum\")"
   ]
  },
  {
   "cell_type": "code",
   "execution_count": null,
   "metadata": {
    "ExecuteTime": {
     "end_time": "2020-09-28T13:47:17.978596Z",
     "start_time": "2020-09-28T13:47:17.970283Z"
    },
    "deletable": false,
    "editable": false,
    "nbgrader": {
     "cell_type": "code",
     "checksum": "a1724933251f1964065800aa35105040",
     "grade": true,
     "grade_id": "cell-2b4d36e72bbc2189",
     "locked": true,
     "points": 2,
     "schema_version": 3,
     "solution": false
    }
   },
   "outputs": [],
   "source": [
    "with tick.marks(2):\n",
    "    assert(a_error<2.0)"
   ]
  },
  {
   "cell_type": "code",
   "execution_count": null,
   "metadata": {
    "ExecuteTime": {
     "end_time": "2020-09-28T13:47:19.730204Z",
     "start_time": "2020-09-28T13:47:19.725325Z"
    },
    "deletable": false,
    "editable": false,
    "nbgrader": {
     "cell_type": "code",
     "checksum": "4eab204e6294cd475378f325751842be",
     "grade": true,
     "grade_id": "cell-1fd742ccc66cbe18",
     "locked": true,
     "points": 2,
     "schema_version": 3,
     "solution": false
    }
   },
   "outputs": [],
   "source": [
    "with tick.marks(2):\n",
    "    assert(a_error<0.5)"
   ]
  },
  {
   "cell_type": "code",
   "execution_count": null,
   "metadata": {
    "ExecuteTime": {
     "end_time": "2020-09-28T13:47:20.083129Z",
     "start_time": "2020-09-28T13:47:20.079224Z"
    },
    "deletable": false,
    "editable": false,
    "nbgrader": {
     "cell_type": "code",
     "checksum": "13bd842f42436ba8c313ff9416d1e03a",
     "grade": true,
     "grade_id": "cell-d9f1430e6e4477b5",
     "locked": true,
     "points": 2,
     "schema_version": 3,
     "solution": false
    }
   },
   "outputs": [],
   "source": [
    "with tick.marks(2):\n",
    "    assert(d_error<1e-10)"
   ]
  },
  {
   "cell_type": "code",
   "execution_count": null,
   "metadata": {
    "ExecuteTime": {
     "end_time": "2020-09-28T13:47:20.381894Z",
     "start_time": "2020-09-28T13:47:20.377991Z"
    },
    "deletable": false,
    "editable": false,
    "nbgrader": {
     "cell_type": "code",
     "checksum": "c05c78df2a567e869e941027c4acafd4",
     "grade": true,
     "grade_id": "cell-333705048f84aa8e",
     "locked": true,
     "points": 2,
     "schema_version": 3,
     "solution": false
    }
   },
   "outputs": [],
   "source": [
    "with tick.marks(2):\n",
    "    assert(d_error<1e-12)"
   ]
  },
  {
   "cell_type": "markdown",
   "metadata": {},
   "source": [
    "---"
   ]
  },
  {
   "cell_type": "markdown",
   "metadata": {
    "deletable": false,
    "editable": false,
    "nbgrader": {
     "cell_type": "markdown",
     "checksum": "0b4c0f76478bae8e75afa7257b02729a",
     "grade": false,
     "grade_id": "cell-e88d85163a2f6996",
     "locked": true,
     "schema_version": 3,
     "solution": false
    }
   },
   "source": [
    "# 2. Debugging the dump\n",
    "\n",
    "Scenario: In your first day in a new post in the IT team in a finance company, you are provided with the a portion of a memory dump of a process that was running an important simulation of foreign exchange rates in the late 1990s. Unfortunately, the system crashed half way through and the raw memory dump is all that is left. You need to extract the relevant data so that the simulation can be restarted. \n",
    "\n",
    "You know the data is stored as a numerical array, so it has some known structure. You don't know the dtype or shape of the array, or where it starts or ends in the memory dump, however.\n",
    "\n",
    "**This is a puzzle which will require careful thinking, but very little code to be written**"
   ]
  },
  {
   "cell_type": "code",
   "execution_count": null,
   "metadata": {
    "ExecuteTime": {
     "end_time": "2020-09-28T13:04:24.208743Z",
     "start_time": "2020-09-28T13:04:24.195079Z"
    },
    "deletable": false,
    "editable": false,
    "nbgrader": {
     "cell_type": "code",
     "checksum": "d0d800f709a783f9f2a85f576ec09fd3",
     "grade": false,
     "grade_id": "cell-a8a2afe4520c1692",
     "locked": true,
     "schema_version": 3,
     "solution": false
    }
   },
   "outputs": [],
   "source": [
    "# read the data in\n",
    "with open(\"data/crash_bytes.dump\", \"rb\")  as f:\n",
    "    crash_dump = f.read()"
   ]
  },
  {
   "cell_type": "code",
   "execution_count": null,
   "metadata": {
    "ExecuteTime": {
     "end_time": "2020-09-28T13:04:24.233143Z",
     "start_time": "2020-09-28T13:04:24.209798Z"
    },
    "deletable": false,
    "editable": false,
    "nbgrader": {
     "cell_type": "code",
     "checksum": "cbefd733ab0acb52341c19ec1b7b37bd",
     "grade": false,
     "grade_id": "cell-509c272084457406",
     "locked": true,
     "schema_version": 3,
     "solution": false
    }
   },
   "outputs": [],
   "source": [
    "# the raw memory dump, in hex. This isn't too useful...\n",
    "# but align, group, offset might be helpful to tweak...\n",
    "def print_hex(x, align=20, group=5, offset=0):\n",
    "    for i, byte in enumerate(x[offset:]):                \n",
    "        print(\"%02X\" % byte, end=\"\\n\" if i%align==align-1 else \"  \" if i%group==group-1 else \" \")            \n",
    "    \n",
    "print_hex(crash_dump)"
   ]
  },
  {
   "cell_type": "markdown",
   "metadata": {
    "deletable": false,
    "editable": false,
    "nbgrader": {
     "cell_type": "markdown",
     "checksum": "c2191e5ad5b1e6874d13fe942e41153e",
     "grade": false,
     "grade_id": "cell-70d474acad76e3d9",
     "locked": true,
     "schema_version": 3,
     "solution": false
    }
   },
   "source": [
    "### What you know\n",
    "All you have is the block of raw data you can see above.  You know the array is in there, but not exactly where it starts or stops.  The header information is gone, so there is no striding information/dope vector to go by.\n",
    "\n",
    "* You know that the first column of the array is an increasing index, starting at 1.0\n",
    "\n",
    "         a        b      c    ...\n",
    "         1.0     ... \n",
    "         2.0     \n",
    "         3.0     \n",
    "         4.0     \n",
    "              \n",
    "* You also know that all values are finite are smaller than 100 billion\n",
    "* All values in the array are known to be positive.\n",
    "* You can assume the data is some form of IEEE 754, though you do not know what specific type.\n",
    "* The data starts on a byte boundary.\n",
    "\n",
    "**This is sufficient information to solve the whole puzzle**"
   ]
  },
  {
   "cell_type": "markdown",
   "metadata": {
    "deletable": false,
    "editable": false,
    "nbgrader": {
     "cell_type": "markdown",
     "checksum": "4065c112980992f3c4bcfddd1787d047",
     "grade": false,
     "grade_id": "cell-bd15883bf21d89b9",
     "locked": true,
     "schema_version": 3,
     "solution": false
    }
   },
   "source": [
    "### Task\n",
    "Recover the data, formatted correctly, and store it in the variable `recovered_array`. \n",
    "\n",
    "* This will take some trial and error (although there *is* a relatively fast way to do it).\n",
    "      "
   ]
  },
  {
   "cell_type": "markdown",
   "metadata": {
    "deletable": false,
    "editable": false,
    "nbgrader": {
     "cell_type": "markdown",
     "checksum": "d7a82e136e4c544b5cba24afb70f9f8e",
     "grade": false,
     "grade_id": "cell-bb12e3dfddfe2c23",
     "locked": true,
     "schema_version": 3,
     "solution": false
    }
   },
   "source": [
    "* You can convert the data to a NumPy array like this:\n",
    "`np.frombuffer(bytes, dtype, count, offset)`\n",
    "* `bytes` the data to decode, as raw bytes\n",
    "* `dtype` the datatype of the data to decode\n",
    "* `count` the number of **elements** in the array\n",
    "* `offset` **in bytes** to start recovering data\n",
    "    "
   ]
  },
  {
   "cell_type": "code",
   "execution_count": null,
   "metadata": {
    "ExecuteTime": {
     "end_time": "2020-09-28T13:04:24.242904Z",
     "start_time": "2020-09-28T13:04:24.235099Z"
    }
   },
   "outputs": [],
   "source": [
    "# A wrong example:\n",
    "# try and read 18 words from offset 0\n",
    "# reshape to a 6,3 array\n",
    "# this clearly isn't right, as you will see\n",
    "np.frombuffer(crash_dump, dtype=np.float64, count=18, offset=0).reshape(6,3)"
   ]
  },
  {
   "cell_type": "markdown",
   "metadata": {
    "deletable": false,
    "editable": false,
    "nbgrader": {
     "cell_type": "markdown",
     "checksum": "71c132d31fb4cb9f3e4613430c9d3316",
     "grade": false,
     "grade_id": "cell-68ce5b4ae1bdde88",
     "locked": true,
     "schema_version": 3,
     "solution": false
    }
   },
   "source": [
    "* A hint: you can show how any NumPy memory will appear in memory in hex using `tobytes()` -- see the example below. Also, remember you need to infer the *shape* of the array."
   ]
  },
  {
   "cell_type": "code",
   "execution_count": null,
   "metadata": {
    "ExecuteTime": {
     "end_time": "2020-09-28T13:04:24.261447Z",
     "start_time": "2020-09-28T13:04:24.243880Z"
    }
   },
   "outputs": [],
   "source": [
    "# create a simple array, and then get the raw bytes and print them\n",
    "print_hex(np.array([[1.0, 2.0, 3.0], \n",
    "                    [4.0, 0.0, 0.0]], dtype=np.float64).tobytes())"
   ]
  },
  {
   "cell_type": "code",
   "execution_count": null,
   "metadata": {
    "ExecuteTime": {
     "end_time": "2020-09-28T13:04:24.278040Z",
     "start_time": "2020-09-28T13:04:24.262424Z"
    },
    "deletable": false,
    "nbgrader": {
     "cell_type": "code",
     "checksum": "31f8294b34e9c578eec7e47d9bb51bd3",
     "grade": false,
     "grade_id": "cell-0052fe4f66d7ebdc",
     "locked": false,
     "schema_version": 3,
     "solution": true
    }
   },
   "outputs": [],
   "source": [
    "# YOUR CODE HERE\n",
    "raise NotImplementedError()"
   ]
  },
  {
   "cell_type": "code",
   "execution_count": null,
   "metadata": {
    "ExecuteTime": {
     "end_time": "2020-09-28T13:04:24.296115Z",
     "start_time": "2020-09-28T13:04:24.279092Z"
    },
    "deletable": false,
    "editable": false,
    "nbgrader": {
     "cell_type": "code",
     "checksum": "ce639c7149cee97afa596ab488e7d5f3",
     "grade": true,
     "grade_id": "cell-9ac5af2bda4cd2ed",
     "locked": true,
     "points": 5,
     "schema_version": 3,
     "solution": false
    }
   },
   "outputs": [],
   "source": [
    "# test the shape\n",
    "with tick.marks(5):        \n",
    "    assert(check_hash(recovered_array.shape, ((2,), 59.5)))"
   ]
  },
  {
   "cell_type": "code",
   "execution_count": null,
   "metadata": {
    "ExecuteTime": {
     "end_time": "2020-09-28T13:04:24.312707Z",
     "start_time": "2020-09-28T13:04:24.297092Z"
    },
    "deletable": false,
    "editable": false,
    "nbgrader": {
     "cell_type": "code",
     "checksum": "b0b2f1e16f27fcd8dec87ecd691856ee",
     "grade": true,
     "grade_id": "cell-926515ccd575cbf4",
     "locked": true,
     "points": 8,
     "schema_version": 3,
     "solution": false
    }
   },
   "outputs": [],
   "source": [
    "# test if the result is correct   \n",
    "with tick.marks(8):        \n",
    "    assert(np.allclose(array_hash(recovered_array)[1], 411436.8382024765, atol=1e-2, rtol=1e-2))"
   ]
  },
  {
   "cell_type": "markdown",
   "metadata": {},
   "source": [
    "---"
   ]
  },
  {
   "cell_type": "markdown",
   "metadata": {
    "deletable": false,
    "editable": false,
    "nbgrader": {
     "cell_type": "markdown",
     "checksum": "801e401a61b2d7a83b6deeaff3d807dd",
     "grade": false,
     "grade_id": "cell-0e8cf17bfe87e8ff",
     "locked": true,
     "schema_version": 3,
     "solution": false
    }
   },
   "source": [
    "# 3. Working with tensors\n",
    "The file `data/font_sheet.png` contains a number of characters in different fonts. It is an image which consists of the images of each *printable* ASCII character, (characters 32-128) arranged left to right. Each character image is precisely square. \n",
    "\n",
    "These are the characters present, in order:"
   ]
  },
  {
   "cell_type": "code",
   "execution_count": null,
   "metadata": {
    "ExecuteTime": {
     "end_time": "2020-09-28T13:04:24.329299Z",
     "start_time": "2020-09-28T13:04:24.313683Z"
    }
   },
   "outputs": [],
   "source": [
    "chars = \"\".join([chr(i) for i in range(32,128)])\n",
    "print(chars)"
   ]
  },
  {
   "cell_type": "markdown",
   "metadata": {
    "deletable": false,
    "editable": false,
    "nbgrader": {
     "cell_type": "markdown",
     "checksum": "71a40cf600df1c6947671f167e00c910",
     "grade": false,
     "grade_id": "cell-9e3426b2a10d4afc",
     "locked": true,
     "schema_version": 3,
     "solution": false
    }
   },
   "source": [
    "  \n",
    "Each font is also stacked left to right, so the image is one *very* long strip of characters. The image is grayscale."
   ]
  },
  {
   "cell_type": "code",
   "execution_count": null,
   "metadata": {
    "ExecuteTime": {
     "end_time": "2020-09-28T13:04:24.970819Z",
     "start_time": "2020-09-28T13:04:24.334179Z"
    }
   },
   "outputs": [],
   "source": [
    "import skimage\n",
    "fname = \"data/font_sheet.png\"\n",
    "img_read = skimage.io.imread(fname, plugin='pil')[:,:,:3]\n",
    "img_gray = skimage.color.rgb2gray(img_read)\n",
    "all_fonts = img_gray.astype(float)\n",
    "print(all_fonts.shape)"
   ]
  },
  {
   "cell_type": "code",
   "execution_count": null,
   "metadata": {
    "ExecuteTime": {
     "end_time": "2020-09-28T13:04:24.981085Z",
     "start_time": "2020-09-28T13:04:24.972771Z"
    }
   },
   "outputs": [],
   "source": [
    "# show a portion of the image\n",
    "ia.show_image(all_fonts[64:128, 1024:2048])"
   ]
  },
  {
   "cell_type": "markdown",
   "metadata": {
    "deletable": false,
    "editable": false,
    "nbgrader": {
     "cell_type": "markdown",
     "checksum": "d78e67f4540a3cbf798d53bed17d77f8",
     "grade": false,
     "grade_id": "cell-b8d67310b0668f38",
     "locked": true,
     "schema_version": 3,
     "solution": false
    }
   },
   "source": [
    "Task A. Rearrange the image into a tensor called `font_sheet` that is ordered like this:\n",
    "\n",
    "        (font, character, rows, cols)\n",
    "        \n",
    "* Showing the image `font_sheet[16, 33, :, :]` should show the \"A\" character of the 17th font.\n",
    "* Showing the image `font_sheet[10, 1, :, :]` should be the \"!\" character of the 11th font."
   ]
  },
  {
   "cell_type": "code",
   "execution_count": null,
   "metadata": {
    "ExecuteTime": {
     "end_time": "2020-09-28T13:04:24.995726Z",
     "start_time": "2020-09-28T13:04:24.982062Z"
    }
   },
   "outputs": [],
   "source": [
    "## hint\n",
    "from jhwutils.matrices import show_boxed_tensor_latex\n",
    "n = np.arange(36).reshape(2*3, 3*2)\n",
    "show_boxed_tensor_latex(n, box_rows=False)\n",
    "show_boxed_tensor_latex(n.reshape(2,3,2,3), box_rows=False)"
   ]
  },
  {
   "cell_type": "code",
   "execution_count": null,
   "metadata": {
    "ExecuteTime": {
     "end_time": "2020-09-28T13:04:25.011341Z",
     "start_time": "2020-09-28T13:04:24.996701Z"
    },
    "deletable": false,
    "nbgrader": {
     "cell_type": "code",
     "checksum": "4a2950aec5509ad8f50d398acd110663",
     "grade": false,
     "grade_id": "cell-66e3a2fcbe9e7e36",
     "locked": false,
     "schema_version": 3,
     "solution": true
    }
   },
   "outputs": [],
   "source": [
    "# YOUR CODE HERE\n",
    "raise NotImplementedError()"
   ]
  },
  {
   "cell_type": "code",
   "execution_count": null,
   "metadata": {
    "ExecuteTime": {
     "end_time": "2020-09-28T13:04:25.116749Z",
     "start_time": "2020-09-28T13:04:25.012318Z"
    }
   },
   "outputs": [],
   "source": [
    "# if your code worked, you should see an ! below\n",
    "ia.show_image_mpl(font_sheet[10, 1, :, :])"
   ]
  },
  {
   "cell_type": "code",
   "execution_count": null,
   "metadata": {
    "ExecuteTime": {
     "end_time": "2020-09-28T13:04:25.129437Z",
     "start_time": "2020-09-28T13:04:25.117726Z"
    }
   },
   "outputs": [],
   "source": [
    "# if your code worked, you should see a gif of letters below\n",
    "ia.show_gif(font_sheet[8, 33:33+26, :, :], width=\"20%\")\n"
   ]
  },
  {
   "cell_type": "code",
   "execution_count": null,
   "metadata": {
    "ExecuteTime": {
     "end_time": "2020-09-28T13:06:16.969428Z",
     "start_time": "2020-09-28T13:06:16.964038Z"
    },
    "deletable": false,
    "editable": false,
    "nbgrader": {
     "cell_type": "code",
     "checksum": "fdeb53c2959f4102aac5f78e0bcefafa",
     "grade": true,
     "grade_id": "cell-e21fcd41d335d470",
     "locked": true,
     "points": 6,
     "schema_version": 3,
     "solution": false
    }
   },
   "outputs": [],
   "source": [
    "# test shape is correct\n",
    "with tick.marks(6):        \n",
    "    assert(check_hash(font_sheet.shape, ((4,), 944.9499472573252)))"
   ]
  },
  {
   "cell_type": "code",
   "execution_count": null,
   "metadata": {
    "ExecuteTime": {
     "end_time": "2020-09-28T13:06:19.106193Z",
     "start_time": "2020-09-28T13:06:18.453183Z"
    },
    "deletable": false,
    "editable": false,
    "nbgrader": {
     "cell_type": "code",
     "checksum": "1c04cf8b36f9e9b60333e9346acd4774",
     "grade": true,
     "grade_id": "cell-b26945a0ff9f8ded",
     "locked": true,
     "points": 10,
     "schema_version": 3,
     "solution": false
    }
   },
   "outputs": [],
   "source": [
    "# test content is ok\n",
    "with tick.marks(10):    \n",
    "    assert(np.allclose(array_hash(font_sheet)[1], 55441039333148.88, atol=1e-2, rtol=1e-2))    "
   ]
  },
  {
   "cell_type": "markdown",
   "metadata": {
    "deletable": false,
    "editable": false,
    "nbgrader": {
     "cell_type": "markdown",
     "checksum": "d21a11c2d265bae1f2ffcdf80aad7164",
     "grade": false,
     "grade_id": "cell-c660c03ac76fe59b",
     "locked": true,
     "schema_version": 3,
     "solution": false
    }
   },
   "source": [
    "B. Create an array `letter_sample`, which will be a 2D image containing one letter from each of the letters in the lowercase alphabet, with each character in a different font. The results should show \"a\" in font 0, \"b\" in font 1, \"c\" in font 2 and so on, as a single continuous strip.\n",
    "\n",
    "The letters should be arranged horizontally and contiguously in a strip in the output image:\n",
    "\n",
    "       abcdefghijklmnopqrstuvwxyz\n",
    "\n",
    "\n",
    "Hint:\n",
    "* you will have to partially *undo* some of the swapping/reshaping you did earlier to get the data in the right format\n",
    "* you need to use fancy indexing\n",
    "* you'll need to slice -- work out how to slice the array correctly\n",
    "* do not use a loop"
   ]
  },
  {
   "cell_type": "code",
   "execution_count": null,
   "metadata": {
    "ExecuteTime": {
     "end_time": "2020-09-28T13:06:23.898578Z",
     "start_time": "2020-09-28T13:06:23.893699Z"
    },
    "deletable": false,
    "nbgrader": {
     "cell_type": "code",
     "checksum": "fe7812d91cfd6689fa2296c971a16199",
     "grade": false,
     "grade_id": "cell-885aa32f73499743",
     "locked": false,
     "schema_version": 3,
     "solution": true
    }
   },
   "outputs": [],
   "source": [
    "# YOUR CODE HERE\n",
    "raise NotImplementedError()"
   ]
  },
  {
   "cell_type": "code",
   "execution_count": null,
   "metadata": {
    "ExecuteTime": {
     "end_time": "2020-09-28T13:06:37.581435Z",
     "start_time": "2020-09-28T13:06:37.575067Z"
    }
   },
   "outputs": [],
   "source": [
    "# each character should appear in a different font\n",
    "ia.show_image(letter_sample)"
   ]
  },
  {
   "cell_type": "code",
   "execution_count": null,
   "metadata": {
    "ExecuteTime": {
     "end_time": "2020-09-28T13:06:52.917486Z",
     "start_time": "2020-09-28T13:06:52.909764Z"
    },
    "deletable": false,
    "editable": false,
    "nbgrader": {
     "cell_type": "code",
     "checksum": "15be7e251623f35999d01a302240b891",
     "grade": true,
     "grade_id": "cell-70f65b6bc9676a93",
     "locked": true,
     "points": 8,
     "schema_version": 3,
     "solution": false
    }
   },
   "outputs": [],
   "source": [
    "\n",
    "with tick.marks(8):\n",
    "    assert(check_hash(letter_sample,((64, 1664), 4815084617.957046)))"
   ]
  },
  {
   "cell_type": "markdown",
   "metadata": {
    "deletable": false,
    "editable": false,
    "nbgrader": {
     "cell_type": "markdown",
     "checksum": "f66a4cf512c07551217a74fac8abe246",
     "grade": false,
     "grade_id": "cell-36342921a0efbd7d",
     "locked": true,
     "schema_version": 3,
     "solution": false
    }
   },
   "source": [
    "C. Compute the average representation of the letter \"x\" by taking the 64x64 mean image of the letter `x` across all fonts and store it in `average_x`.\n",
    "\n",
    "        "
   ]
  },
  {
   "cell_type": "code",
   "execution_count": null,
   "metadata": {
    "ExecuteTime": {
     "end_time": "2020-09-28T13:06:54.695013Z",
     "start_time": "2020-09-28T13:06:54.691110Z"
    },
    "deletable": false,
    "nbgrader": {
     "cell_type": "code",
     "checksum": "f9ef091a5588130c418268f7d4c1f399",
     "grade": false,
     "grade_id": "cell-e9b55239e54bd3d9",
     "locked": false,
     "schema_version": 3,
     "solution": true
    }
   },
   "outputs": [],
   "source": [
    "# YOUR CODE HERE\n",
    "raise NotImplementedError()"
   ]
  },
  {
   "cell_type": "code",
   "execution_count": null,
   "metadata": {
    "ExecuteTime": {
     "end_time": "2020-09-28T13:06:56.550295Z",
     "start_time": "2020-09-28T13:06:56.462926Z"
    }
   },
   "outputs": [],
   "source": [
    "# show the result -- should be a 64x64 image\n",
    "ia.show_image_mpl(average_x)"
   ]
  },
  {
   "cell_type": "code",
   "execution_count": null,
   "metadata": {
    "ExecuteTime": {
     "end_time": "2020-09-28T13:06:57.743810Z",
     "start_time": "2020-09-28T13:06:57.737955Z"
    },
    "deletable": false,
    "editable": false,
    "nbgrader": {
     "cell_type": "code",
     "checksum": "f1e982db58f6f7f7bc5c488478800085",
     "grade": true,
     "grade_id": "cell-23945e7b1798eac2",
     "locked": true,
     "points": 5,
     "schema_version": 3,
     "solution": false
    }
   },
   "outputs": [],
   "source": [
    "with tick.marks(5):    \n",
    "    assert(check_hash(average_x, ((64, 64), 7278599.401423973)))"
   ]
  },
  {
   "cell_type": "markdown",
   "metadata": {},
   "source": [
    "----"
   ]
  },
  {
   "cell_type": "markdown",
   "metadata": {},
   "source": [
    "## Rendering fonts\n",
    "Complete the function below. It should render text using the provided font index, and *return* a single array with the text rendered in a horizontal strip. It should use `font_sheet` that you defined earlier. You can assume equal spacing of letters. \n",
    "\n",
    "* You can compute the index of the character in the same units as the font sheet using the formula:\n",
    "\n",
    "      ix = ord(char) - 32\n",
    "    \n",
    "Every ASCII character (32-127) should be rendered. Any character that could not be rendered should be rendered as a **blank white** square.    \n",
    "\n",
    "* It is fine to use a `for` loop to solve this problem"
   ]
  },
  {
   "cell_type": "code",
   "execution_count": null,
   "metadata": {
    "ExecuteTime": {
     "end_time": "2020-09-28T13:08:05.469366Z",
     "start_time": "2020-09-28T13:08:05.463510Z"
    },
    "deletable": false,
    "nbgrader": {
     "cell_type": "code",
     "checksum": "f254e2c692ade9761bcc281dac6365d7",
     "grade": false,
     "grade_id": "cell-5ae83dcf83f39b03",
     "locked": false,
     "schema_version": 3,
     "solution": true
    }
   },
   "outputs": [],
   "source": [
    "def render_text(string, font_index):\n",
    "    \"\"\"Returns an image with the given string rendered, using the font_index selected.\n",
    "    Reads characters from font_sheet.\n",
    "    string: String to be rendered.\n",
    "    font_index: index of the font to use\"\"\"\n",
    "    pass # you can delete this line\n",
    "    # YOUR CODE HERE\n",
    "    raise NotImplementedError()"
   ]
  },
  {
   "cell_type": "code",
   "execution_count": null,
   "metadata": {
    "ExecuteTime": {
     "end_time": "2020-09-28T13:08:06.470844Z",
     "start_time": "2020-09-28T13:08:06.463036Z"
    }
   },
   "outputs": [],
   "source": [
    "# you should be able to read this\n",
    "ia.show_image(render_text(\"Can you see this clearly?\", 23))"
   ]
  },
  {
   "cell_type": "code",
   "execution_count": null,
   "metadata": {
    "ExecuteTime": {
     "end_time": "2020-09-28T13:08:08.318804Z",
     "start_time": "2020-09-28T13:08:08.310996Z"
    }
   },
   "outputs": [],
   "source": [
    "# this should look the same\n",
    "ia.show_image(render_text(\"Can\\tyou\\nsee\\xf5this\\x00clearly?\", 23))"
   ]
  },
  {
   "cell_type": "code",
   "execution_count": null,
   "metadata": {
    "ExecuteTime": {
     "end_time": "2020-09-28T13:08:09.831236Z",
     "start_time": "2020-09-28T13:08:09.823428Z"
    }
   },
   "outputs": [],
   "source": [
    "ia.show_image(render_text(\"IDSS\", 1))"
   ]
  },
  {
   "cell_type": "code",
   "execution_count": null,
   "metadata": {
    "ExecuteTime": {
     "end_time": "2020-09-28T13:08:11.338960Z",
     "start_time": "2020-09-28T13:08:11.333104Z"
    },
    "deletable": false,
    "editable": false,
    "nbgrader": {
     "cell_type": "code",
     "checksum": "cd7c85ff2112f9c40e3453be6ca2906a",
     "grade": false,
     "grade_id": "cell-3a50d2f27fc709fc",
     "locked": true,
     "schema_version": 3,
     "solution": false
    }
   },
   "outputs": [],
   "source": [
    "with tick.marks(0):\n",
    "    assert(check_hash(render_text(\"Test 1\", 1), ((64, 384), 269160963.20571893)))"
   ]
  },
  {
   "cell_type": "code",
   "execution_count": null,
   "metadata": {
    "ExecuteTime": {
     "end_time": "2020-09-28T13:08:12.315238Z",
     "start_time": "2020-09-28T13:08:12.309383Z"
    },
    "deletable": false,
    "editable": false,
    "nbgrader": {
     "cell_type": "code",
     "checksum": "90069727e76fbd2d1681a53b679637c9",
     "grade": false,
     "grade_id": "cell-12523efdd62618b3",
     "locked": true,
     "schema_version": 3,
     "solution": false
    }
   },
   "outputs": [],
   "source": [
    "with tick.marks(0):\n",
    "    assert(check_hash(render_text(\"Test 2\", 2),((64, 384), 282670129.18082076)))"
   ]
  },
  {
   "cell_type": "code",
   "execution_count": null,
   "metadata": {
    "ExecuteTime": {
     "end_time": "2020-09-28T13:08:13.543355Z",
     "start_time": "2020-09-28T13:08:13.537500Z"
    },
    "deletable": false,
    "editable": false,
    "nbgrader": {
     "cell_type": "code",
     "checksum": "0f256dff3b69cc6471a0e2b37ed18274",
     "grade": false,
     "grade_id": "cell-74c0a0336db2f47e",
     "locked": true,
     "schema_version": 3,
     "solution": false
    }
   },
   "outputs": [],
   "source": [
    "with tick.marks(0):\n",
    "    assert(check_hash(render_text(\"Test\\n3\", 3), ((64, 384), 283057779.18977338)))"
   ]
  },
  {
   "cell_type": "code",
   "execution_count": null,
   "metadata": {
    "ExecuteTime": {
     "end_time": "2020-09-28T13:08:14.168100Z",
     "start_time": "2020-09-28T13:08:14.162242Z"
    },
    "deletable": false,
    "editable": false,
    "nbgrader": {
     "cell_type": "code",
     "checksum": "0dcb26ffd9be4b62a4bf0de217339c89",
     "grade": false,
     "grade_id": "cell-0fd9508a61e6950e",
     "locked": true,
     "schema_version": 3,
     "solution": false
    }
   },
   "outputs": [],
   "source": [
    "with tick.marks(0):\n",
    "    assert(check_hash(render_text(\"\\n\\tTest\\x00\\xff4\", 4), ((64, 576), 657469474.43368447)))"
   ]
  },
  {
   "cell_type": "markdown",
   "metadata": {},
   "source": [
    "---"
   ]
  },
  {
   "cell_type": "markdown",
   "metadata": {},
   "source": [
    "# Submission on Moodle"
   ]
  },
  {
   "cell_type": "markdown",
   "metadata": {},
   "source": [
    "You are welcome to submit the lab on Moodle but we will not be grading it. There is no PDF generated for this challenge lab."
   ]
  }
 ],
 "metadata": {
  "kernelspec": {
   "display_name": "Python 3 (ipykernel)",
   "language": "python",
   "name": "python3"
  },
  "language_info": {
   "codemirror_mode": {
    "name": "ipython",
    "version": 3
   },
   "file_extension": ".py",
   "mimetype": "text/x-python",
   "name": "python",
   "nbconvert_exporter": "python",
   "pygments_lexer": "ipython3",
   "version": "3.9.7"
  },
  "toc": {
   "base_numbering": 1,
   "nav_menu": {},
   "number_sections": true,
   "sideBar": true,
   "skip_h1_title": false,
   "title_cell": "Table of Contents",
   "title_sidebar": "Contents",
   "toc_cell": false,
   "toc_position": {},
   "toc_section_display": "block",
   "toc_window_display": false
  },
  "varInspector": {
   "cols": {
    "lenName": 16,
    "lenType": 16,
    "lenVar": 40
   },
   "kernels_config": {
    "python": {
     "delete_cmd_postfix": "",
     "delete_cmd_prefix": "del ",
     "library": "var_list.py",
     "varRefreshCmd": "print(var_dic_list())"
    },
    "r": {
     "delete_cmd_postfix": ") ",
     "delete_cmd_prefix": "rm(",
     "library": "var_list.r",
     "varRefreshCmd": "cat(var_dic_list()) "
    }
   },
   "types_to_exclude": [
    "module",
    "function",
    "builtin_function_or_method",
    "instance",
    "_Feature"
   ],
   "window_display": false
  }
 },
 "nbformat": 4,
 "nbformat_minor": 1
}
